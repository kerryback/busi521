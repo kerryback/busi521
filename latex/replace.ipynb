{
 "cells": [
  {
   "cell_type": "code",
   "execution_count": 1,
   "metadata": {},
   "outputs": [],
   "source": [
    "import os\n",
    "import subprocess\n",
    "chapters = [\n",
    "    f for f in os.listdir(\".\") \n",
    "    if f[:7] == \"Chapter\" and f[-4:] == \".tex\"\n",
    "]\n",
    "    \n",
    "dct = {\n",
    "    \", Spring 2024\": \"/ECON 505\",\n",
    "}\n",
    "\n",
    "for chapter in chapters:\n",
    "    with open(f\"./{chapter}\", 'r') as f:\n",
    "        contents = f.read()\n",
    "        for key in dct:\n",
    "            contents = contents.replace(key, dct[key])\n",
    "    with open(f\"./{chapter}\", \"w\") as f:\n",
    "        f.write(contents)\n",
    "    subprocess.run(f\"pdflatex {chapter}\", shell=True, check=True)\n",
    "\n",
    "    \n",
    "  "
   ]
  },
  {
   "cell_type": "code",
   "execution_count": 2,
   "metadata": {},
   "outputs": [
    {
     "name": "stdout",
     "output_type": "stream",
     "text": [
      "Chapter02.aux\n",
      "Chapter02.fls\n",
      "Chapter02.log\n",
      "Chapter02.out\n",
      "Chapter02.synctex(busy)\n"
     ]
    }
   ],
   "source": [
    "import os \n",
    "\n",
    "files = [f for f in os.listdir(\".\") if os.path.isfile(f) and f[-4:] not in [\"pynb\", \".tex\", \".pdf\"]]\n",
    "for f in files:\n",
    "    print(f)\n",
    "    os.system(\"del \" + f)\n"
   ]
  },
  {
   "cell_type": "code",
   "execution_count": null,
   "metadata": {},
   "outputs": [],
   "source": []
  }
 ],
 "metadata": {
  "kernelspec": {
   "display_name": "Python 3",
   "language": "python",
   "name": "python3"
  },
  "language_info": {
   "codemirror_mode": {
    "name": "ipython",
    "version": 3
   },
   "file_extension": ".py",
   "mimetype": "text/x-python",
   "name": "python",
   "nbconvert_exporter": "python",
   "pygments_lexer": "ipython3",
   "version": "3.13.0"
  }
 },
 "nbformat": 4,
 "nbformat_minor": 2
}
